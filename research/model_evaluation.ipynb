{
 "cells": [
  {
   "cell_type": "code",
   "execution_count": 1,
   "id": "5edeca1b",
   "metadata": {},
   "outputs": [
    {
     "data": {
      "text/plain": [
       "'c:\\\\Users\\\\hasan\\\\End to end\\\\FullMLPipe'"
      ]
     },
     "execution_count": 1,
     "metadata": {},
     "output_type": "execute_result"
    }
   ],
   "source": [
    "import os\n",
    "\n",
    "os.chdir(\"../\")\n",
    "%pwd"
   ]
  },
  {
   "cell_type": "code",
   "execution_count": 2,
   "id": "8a1199b0",
   "metadata": {},
   "outputs": [
    {
     "name": "stdout",
     "output_type": "stream",
     "text": [
      "2025-08-24 15:36:20,028: INFO: common: yaml file: config\\config.yaml loaded successfully\n",
      "2025-08-24 15:36:20,030: INFO: common: yaml file: params.yaml loaded successfully\n",
      "2025-08-24 15:36:20,032: INFO: common: yaml file: schema.yaml loaded successfully\n",
      "2025-08-24 15:36:20,033: INFO: common: created directory at: artifacts\n"
     ]
    }
   ],
   "source": [
    "from src.FullMLPipe.config.configuration import ConfigurationManager\n",
    "\n",
    "config_manager = ConfigurationManager()\n",
    "\n",
    "secrets = config_manager.get_secret()"
   ]
  },
  {
   "cell_type": "code",
   "execution_count": 3,
   "id": "cc1aae6c",
   "metadata": {},
   "outputs": [],
   "source": [
    "os.environ[\"MLFLOW_TRACKING_URI\"] = secrets.mlflow_uri\n",
    "os.environ[\"MLFLOW_TRACKING_USERNAME\"] = secrets.mlflow_username\n",
    "os.environ[\"MLFLOW_TRACKING_PASSWORD\"] = secrets.mlflow_password"
   ]
  },
  {
   "cell_type": "code",
   "execution_count": 4,
   "id": "5689fb9f",
   "metadata": {},
   "outputs": [],
   "source": [
    "from dataclasses import dataclass\n",
    "from pathlib import Path "
   ]
  },
  {
   "cell_type": "code",
   "execution_count": null,
   "id": "c4246a31",
   "metadata": {},
   "outputs": [],
   "source": [
    "@dataclass\n",
    "class ModelEvaluationConfig:\n",
    "    root_dir: Path\n",
    "    test_data_path: Path\n",
    "    model_path: Path\n",
    "    all_params: dict\n",
    "    metric_file_name: Path\n",
    "    target_column: str\n",
    "    mlflow_uri: str"
   ]
  },
  {
   "cell_type": "code",
   "execution_count": 6,
   "id": "1ba42df4",
   "metadata": {},
   "outputs": [],
   "source": [
    "from src.FullMLPipe.constants import *\n",
    "from src.FullMLPipe.utils.common import *"
   ]
  },
  {
   "cell_type": "code",
   "execution_count": 7,
   "id": "9c9c4f14",
   "metadata": {},
   "outputs": [],
   "source": [
    "class ConfigurationManager:\n",
    "    def __init__(self,\n",
    "                 config_filepath = CONFIG_FILE_PATH,\n",
    "                 params_filepath = PARAMS_FILE_PATH,\n",
    "                 schema_filepath = SCHEMA_FILE_PATH):\n",
    "        self.config = read_yaml(config_filepath)\n",
    "        self.params = read_yaml(params_filepath)\n",
    "        self.schema = read_yaml(schema_filepath)\n",
    "        \n",
    "        create_directories([self.config.artifacts_root])\n",
    "    \n",
    "    def get_model_evaluation_config(self) -> ModelEvaluationConfig:\n",
    "        config = self.config.model_evaluation\n",
    "        params = self.params.ElasticNet\n",
    "        target = self.schema.TARGET_COLUMN\n",
    "        \n",
    "        create_directories([config.root_dir])\n",
    "        \n",
    "        return ModelEvaluationConfig(\n",
    "            root_dir= config.root_dir,\n",
    "            test_data_path= config.test_data_path,\n",
    "            model_path= config.model_path,\n",
    "            all_params= params,\n",
    "            metric_file_name= config.metric_file_name,\n",
    "            target_column= target.name,\n",
    "            mlflow_uri= secrets.mlflow_uri\n",
    "        )"
   ]
  },
  {
   "cell_type": "code",
   "execution_count": 8,
   "id": "e02b2daf",
   "metadata": {},
   "outputs": [
    {
     "name": "stderr",
     "output_type": "stream",
     "text": [
      "c:\\Users\\hasan\\End to end\\FullMLPipe\\venv\\lib\\site-packages\\pydantic\\_internal\\_config.py:373: UserWarning: Valid config keys have changed in V2:\n",
      "* 'schema_extra' has been renamed to 'json_schema_extra'\n",
      "  warnings.warn(message, UserWarning)\n"
     ]
    }
   ],
   "source": [
    "import os \n",
    "import pandas as pd \n",
    "from sklearn.metrics import mean_squared_error , mean_absolute_error , r2_score\n",
    "from urllib.parse import urlparse\n",
    "import mlflow\n",
    "import mlflow.sklearn\n",
    "import numpy as np \n",
    "import joblib"
   ]
  },
  {
   "cell_type": "code",
   "execution_count": 9,
   "id": "2a5cffcb",
   "metadata": {},
   "outputs": [],
   "source": [
    "class ModelEvaluation:\n",
    "    def __init__(self , config: ModelEvaluationConfig):\n",
    "        self.config = config\n",
    "    \n",
    "    def eval_metrics(self, actual, pred):\n",
    "        rmse = np.sqrt(mean_squared_error(actual,pred))\n",
    "        mae = mean_absolute_error(actual,pred)\n",
    "        r2 = r2_score(actual,pred)\n",
    "        \n",
    "        return rmse , mae , r2\n",
    "    \n",
    "    def log_into_mlflow(self):\n",
    "        test_data = pd.read_csv(self.config.test_data_path)\n",
    "        model = joblib.load(self.config.model_path)\n",
    "        \n",
    "        X_test = test_data.drop([self.config.target_column] , axis=1)\n",
    "        y_test = test_data[[self.config.target_column]]\n",
    "        \n",
    "        mlflow.set_registry_uri(self.config.mlflow_uri)\n",
    "        tracking_url_type_store = urlparse(mlflow.get_tracking_uri()).scheme\n",
    "        \n",
    "        with mlflow.start_run():\n",
    "            predicted_qualities = model.predict(X_test)\n",
    "            \n",
    "            (rmse,mae,r2) = self.eval_metrics(y_test , predicted_qualities)\n",
    "            \n",
    "            scores = {\"rmse\" : rmse, \"mae\": mae , \"r2\" : r2}\n",
    "            save_json(path=Path(self.config.metric_file_name) , data=scores)\n",
    "            \n",
    "            mlflow.log_params(self.config.all_params)\n",
    "            \n",
    "            mlflow.log_metric(\"rmse\" , rmse)\n",
    "            mlflow.log_metric(\"mae\" , mae)\n",
    "            mlflow.log_metric(\"r2\" , r2)\n",
    "            \n",
    "            if tracking_url_type_store != 'file':\n",
    "                mlflow.sklearn.log_model(model, \"model\")\n",
    "            else:\n",
    "                mlflow.sklearn.log_model(model, \"model\")\n"
   ]
  },
  {
   "cell_type": "code",
   "execution_count": 10,
   "id": "e6cc875f",
   "metadata": {},
   "outputs": [
    {
     "name": "stdout",
     "output_type": "stream",
     "text": [
      "2025-08-24 15:36:22,104: INFO: common: yaml file: config\\config.yaml loaded successfully\n",
      "2025-08-24 15:36:22,105: INFO: common: yaml file: params.yaml loaded successfully\n",
      "2025-08-24 15:36:22,108: INFO: common: yaml file: schema.yaml loaded successfully\n",
      "2025-08-24 15:36:22,109: INFO: common: created directory at: artifacts\n",
      "2025-08-24 15:36:22,110: INFO: common: created directory at: artifacts/model_evaluation\n",
      "2025-08-24 15:36:22,838: INFO: common: json file saved at: artifacts\\model_evaluation\\metrics.json\n"
     ]
    }
   ],
   "source": [
    "try:\n",
    "    config = ConfigurationManager()\n",
    "    model_evaluation_config = config.get_model_evaluation_config()\n",
    "    model_evaluation_config = ModelEvaluation(config = model_evaluation_config)\n",
    "    model_evaluation_config.log_into_mlflow()\n",
    "except Exception as e:\n",
    "    raise e"
   ]
  }
 ],
 "metadata": {
  "kernelspec": {
   "display_name": "Python 3",
   "language": "python",
   "name": "python3"
  },
  "language_info": {
   "codemirror_mode": {
    "name": "ipython",
    "version": 3
   },
   "file_extension": ".py",
   "mimetype": "text/x-python",
   "name": "python",
   "nbconvert_exporter": "python",
   "pygments_lexer": "ipython3",
   "version": "3.10.0"
  }
 },
 "nbformat": 4,
 "nbformat_minor": 5
}
